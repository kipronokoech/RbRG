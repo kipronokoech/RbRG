{
 "cells": [
  {
   "cell_type": "markdown",
   "metadata": {},
   "source": [
    "#Uncomment the following two cells when running this notebook in Google Colab"
   ]
  },
  {
   "cell_type": "code",
   "execution_count": 3,
   "metadata": {
    "colab": {
     "base_uri": "https://localhost:8080/",
     "height": 123
    },
    "colab_type": "code",
    "executionInfo": {
     "elapsed": 21699,
     "status": "ok",
     "timestamp": 1573485967872,
     "user": {
      "displayName": "Kiprono Elijah Koech",
      "photoUrl": "https://lh3.googleusercontent.com/a-/AAuE7mAPPh6NgXr8kY61LDavQFPTAu7hLySwvkkFkzYL=s64",
      "userId": "06588571517751136640"
     },
     "user_tz": -120
    },
    "id": "GtCKuRSf7D4h",
    "outputId": "f0047936-88e4-458b-f230-1861a5ea09d5"
   },
   "outputs": [],
   "source": [
    "# from google.colab import drive,files\n",
    "# drive.mount(\"/content/gdrive\")"
   ]
  },
  {
   "cell_type": "code",
   "execution_count": 2,
   "metadata": {
    "colab": {},
    "colab_type": "code",
    "id": "ThpSWgTU8AXh"
   },
   "outputs": [],
   "source": [
    "# from pydrive.auth import GoogleAuth\n",
    "# from pydrive.drive import GoogleDrive\n",
    "# from google.colab import auth\n",
    "# from oauth2client.client import GoogleCredentials\n",
    "\n",
    "# auth.authenticate_user()\n",
    "# gauth = GoogleAuth()\n",
    "# gauth.credentials = GoogleCredentials.get_application_default()\n",
    "# drive = GoogleDrive(gauth)"
   ]
  },
  {
   "cell_type": "code",
   "execution_count": 0,
   "metadata": {
    "colab": {},
    "colab_type": "code",
    "id": "SyvoEpD9-OU1"
   },
   "outputs": [],
   "source": [
    "# import sys\n",
    "# sys.path.insert(0, '/content/gdrive/My Drive/Research Project/Python/RbRG 4 SUBMISSION/Python/')"
   ]
  },
  {
   "cell_type": "code",
   "execution_count": 4,
   "metadata": {
    "colab": {},
    "colab_type": "code",
    "id": "1lFSh9QnBr2n"
   },
   "outputs": [],
   "source": [
    "import os"
   ]
  },
  {
   "cell_type": "code",
   "execution_count": 7,
   "metadata": {
    "colab": {},
    "colab_type": "code",
    "id": "fxiBpl3e8CwX"
   },
   "outputs": [],
   "source": [
    "import CNN_eval\n",
    "#To use this CNN_eval module, we need the following:\n",
    "    #ground - PATH to the array of ground-truth contours.\n",
    "    #preds -PATH to the array of predicted contours.CNN output.\n",
    "    #iou_value -(number between 0 and 1)-IoU treshold value.\n",
    "\n",
    "import RbRG_eval\n",
    "\n",
    "#To use RbRG_eval modules, the following are needed:\n",
    "    #ground-PATH to the array for ground-truth anotations;\n",
    "    #refined-PATH to the refined image in binary format. RbRG output;\n",
    "    #iou_value- (number between 0 and 1)- IoU threshold value\n"
   ]
  },
  {
   "cell_type": "code",
   "execution_count": 8,
   "metadata": {
    "colab": {},
    "colab_type": "code",
    "id": "gQG_17pZCA2B"
   },
   "outputs": [],
   "source": [
    "#Evaluation of CNN results"
   ]
  },
  {
   "cell_type": "code",
   "execution_count": 9,
   "metadata": {
    "colab": {},
    "colab_type": "code",
    "id": "OXyfH8De8dnB"
   },
   "outputs": [],
   "source": [
    "Dir='../Example/'"
   ]
  },
  {
   "cell_type": "code",
   "execution_count": 10,
   "metadata": {
    "colab": {},
    "colab_type": "code",
    "id": "H_q0sBwNBXZV"
   },
   "outputs": [],
   "source": [
    "truth_path=os.path.join(Dir,\"ground_truth.npy\")"
   ]
  },
  {
   "cell_type": "code",
   "execution_count": 11,
   "metadata": {
    "colab": {},
    "colab_type": "code",
    "id": "ww55ueMTBn4x"
   },
   "outputs": [],
   "source": [
    "pred_path=os.path.join(Dir,\"predictions.npy\")"
   ]
  },
  {
   "cell_type": "code",
   "execution_count": 12,
   "metadata": {
    "colab": {
     "base_uri": "https://localhost:8080/",
     "height": 68
    },
    "colab_type": "code",
    "executionInfo": {
     "elapsed": 775,
     "status": "ok",
     "timestamp": 1573486163032,
     "user": {
      "displayName": "Kiprono Elijah Koech",
      "photoUrl": "https://lh3.googleusercontent.com/a-/AAuE7mAPPh6NgXr8kY61LDavQFPTAu7hLySwvkkFkzYL=s64",
      "userId": "06588571517751136640"
     },
     "user_tz": -120
    },
    "id": "PTixOhhXB1No",
    "outputId": "953e73a5-1bda-432e-e15b-85c4f7f89662"
   },
   "outputs": [
    {
     "name": "stdout",
     "output_type": "stream",
     "text": [
      "----------------------------------------------------------------\n",
      "\t TP: 14 \t FP: 10 \t Missed: 5 \t GT: 23\n",
      "Precall: 0.583 \t Recall: 0.609 \t F1 score: 0.596\n"
     ]
    }
   ],
   "source": [
    "CNN_eval.evaluation1(ground=truth_path,pred=pred_path,iou_value=0.5)\n",
    "#TP is the True Positives, FP is the False Positives and Missed are the fruits missed by the model.\n",
    "#GT is the actual number of fruits in the image."
   ]
  },
  {
   "cell_type": "code",
   "execution_count": 13,
   "metadata": {
    "colab": {},
    "colab_type": "code",
    "id": "PHDYfO3CCXw9"
   },
   "outputs": [],
   "source": [
    "#Evaluation of CNN+RbRG, that is, the outcome after refinement"
   ]
  },
  {
   "cell_type": "code",
   "execution_count": 14,
   "metadata": {
    "colab": {},
    "colab_type": "code",
    "id": "87t_eH4uDY3U"
   },
   "outputs": [],
   "source": [
    "refined_path=os.path.join(Dir,\"img_refined.jpg\")"
   ]
  },
  {
   "cell_type": "code",
   "execution_count": 15,
   "metadata": {
    "colab": {
     "base_uri": "https://localhost:8080/",
     "height": 68
    },
    "colab_type": "code",
    "executionInfo": {
     "elapsed": 636,
     "status": "ok",
     "timestamp": 1573486166564,
     "user": {
      "displayName": "Kiprono Elijah Koech",
      "photoUrl": "https://lh3.googleusercontent.com/a-/AAuE7mAPPh6NgXr8kY61LDavQFPTAu7hLySwvkkFkzYL=s64",
      "userId": "06588571517751136640"
     },
     "user_tz": -120
    },
    "id": "5IoD6xjGDk9I",
    "outputId": "05591849-8f6b-4054-c522-4fe319ad08e0"
   },
   "outputs": [
    {
     "name": "stdout",
     "output_type": "stream",
     "text": [
      "---------------------------------------------------------------------------------\n",
      "\t |TP: 19 \t |FP: 7 \t |Missed: 5 \t GT 23\n",
      "Precision: 0.731 \t Recall: 0.826 \t F1 0.776\n"
     ]
    }
   ],
   "source": [
    "RbRG_eval.evaluation2(ground=truth_path,refined=refined_path,iou_value=0.5)"
   ]
  },
  {
   "cell_type": "code",
   "execution_count": 0,
   "metadata": {
    "colab": {},
    "colab_type": "code",
    "id": "0ETnB1v2DvAj"
   },
   "outputs": [],
   "source": []
  }
 ],
 "metadata": {
  "colab": {
   "collapsed_sections": [],
   "name": "evaluation.ipynb",
   "provenance": []
  },
  "kernelspec": {
   "display_name": "Python 3",
   "language": "python",
   "name": "python3"
  },
  "language_info": {
   "codemirror_mode": {
    "name": "ipython",
    "version": 3
   },
   "file_extension": ".py",
   "mimetype": "text/x-python",
   "name": "python",
   "nbconvert_exporter": "python",
   "pygments_lexer": "ipython3",
   "version": "3.7.3"
  }
 },
 "nbformat": 4,
 "nbformat_minor": 1
}
